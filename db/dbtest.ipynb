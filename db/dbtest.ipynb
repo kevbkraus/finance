{
 "cells": [
  {
   "cell_type": "code",
   "execution_count": 16,
   "id": "668874e6-c9e3-4ebe-9ce1-f37b3a8b187f",
   "metadata": {},
   "outputs": [],
   "source": [
    "import yfinance as yf\n",
    "\n",
    "\n",
    "# Retrieves prices and dividends for the given ticker\n",
    "t = yf.Ticker(\"BKLN\")\n",
    "\n",
    "# get all stock info\n",
    "t.info\n",
    "\n",
    "# get historical market data\n",
    "hist = t.history(period=\"5y\")\n"
   ]
  },
  {
   "cell_type": "code",
   "execution_count": 17,
   "id": "43b25507-45d1-4d8c-948e-c812f551e3e1",
   "metadata": {},
   "outputs": [],
   "source": [
    "# This cell shows the fields inside a history object.\n",
    "import importlib\n",
    "import context\n",
    "from sqlalchemy import create_engine\n",
    "from sqlalchemy.orm import Session\n",
    "importlib.reload(context)\n",
    "from context import AssetDividends\n",
    "\n",
    "engine = create_engine(\"sqlite:///../gsb.db\")\n",
    "\n",
    "with Session(engine) as session:\n",
    "    for index, row in hist.iterrows():\n",
    "        dividend = round(row[\"Dividends\"], 2)\n",
    "        if (dividend > 0):\n",
    "            asset_div = AssetDividends(\n",
    "                ticker=\"DLR\",\n",
    "                date = str(index)[:10],\n",
    "                dividend_per_share = dividend\n",
    "            )\n",
    "            session.add(asset_div)\n",
    "        session.commit()"
   ]
  },
  {
   "cell_type": "code",
   "execution_count": 18,
   "id": "870abb49-7dc3-41a0-b6d3-ab2b87264047",
   "metadata": {},
   "outputs": [],
   "source": [
    "# This cell shows how to open a connection to the SQLite database, create objects in memory\n",
    "# and persist them to the database.\n",
    "import importlib\n",
    "import context\n",
    "from sqlalchemy import create_engine\n",
    "from sqlalchemy.orm import Session\n",
    "importlib.reload(context)\n",
    "from context import AssetDailyPrice\n",
    "\n",
    "engine = create_engine(\"sqlite:///../gsb.db\")\n",
    "\n",
    "with Session(engine) as session:\n",
    "    for index, row in hist.iterrows():\n",
    "        asset_hist = AssetDailyPrice(\n",
    "            ticker=\"TCPC\",\n",
    "            date = str(index)[:10],\n",
    "            close = round(row[\"Close\"], 2)\n",
    "        )\n",
    "        session.add(asset_hist)\n",
    "    session.commit()"
   ]
  },
  {
   "cell_type": "code",
   "execution_count": null,
   "id": "384df4ee-449d-40e2-b5d1-4adfd0d42832",
   "metadata": {},
   "outputs": [],
   "source": [
    "# DB Testing"
   ]
  },
  {
   "cell_type": "code",
   "execution_count": 6,
   "id": "1d3863f5-dfa8-4264-9994-9a2f78fd3b79",
   "metadata": {},
   "outputs": [
    {
     "name": "stdout",
     "output_type": "stream",
     "text": [
      "2024-04-09 10:14:34,841 INFO sqlalchemy.engine.Engine BEGIN (implicit)\n",
      "2024-04-09 10:14:34,844 INFO sqlalchemy.engine.Engine INSERT INTO asset (ticker) VALUES (?)\n",
      "2024-04-09 10:14:34,845 INFO sqlalchemy.engine.Engine [generated in 0.00052s] ('MSFT',)\n",
      "2024-04-09 10:14:34,846 INFO sqlalchemy.engine.Engine COMMIT\n"
     ]
    }
   ],
   "source": [
    "from sqlalchemy import create_engine\n",
    "from sqlalchemy.orm import Session\n",
    "from context import Asset\n",
    "\n",
    "engine = create_engine(\"sqlite:///../gsb.db\", echo=True)\n",
    "\n",
    "with Session(engine) as session:\n",
    "    msft = Asset(\n",
    "        ticker=\"MSFT\"\n",
    "    )\n",
    "    session.add(msft)\n",
    "    session.commit()"
   ]
  }
 ],
 "metadata": {
  "kernelspec": {
   "display_name": "Python 3 (ipykernel)",
   "language": "python",
   "name": "python3"
  },
  "language_info": {
   "codemirror_mode": {
    "name": "ipython",
    "version": 3
   },
   "file_extension": ".py",
   "mimetype": "text/x-python",
   "name": "python",
   "nbconvert_exporter": "python",
   "pygments_lexer": "ipython3",
   "version": "3.10.0"
  }
 },
 "nbformat": 4,
 "nbformat_minor": 5
}
